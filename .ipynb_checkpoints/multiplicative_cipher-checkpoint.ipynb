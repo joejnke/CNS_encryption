{
 "cells": [
  {
   "cell_type": "code",
   "execution_count": 10,
   "metadata": {},
   "outputs": [],
   "source": [
    "def mul_ciph_encrypt(plain_text, key):\n",
    "    cipher_text = \"\"\n",
    "    for character in plain_text:\n",
    "        temp_cipher = chr((ord(character) * key) % 128) ##there are total of 128 characters in the ASCII\n",
    "        cipher_text = cipher_text + temp_cipher\n",
    "        \n",
    "    return cipher_text"
   ]
  },
  {
   "cell_type": "code",
   "execution_count": 36,
   "metadata": {
    "collapsed": true
   },
   "outputs": [],
   "source": [
    "def mul_ciph_decrypt(cipher_text, key):\n",
    "    if modinv(key,128)==-1:\n",
    "        print(\"INVALID KEY!!! --> %s\" % key)\n",
    "        return None\n",
    "    plain_text = \"\"\n",
    "    for character in cipher_text:\n",
    "        temp_plain = chr(ord(character)*modinv(key,128) % 128)\n",
    "        plain_text = plain_text + temp_plain\n",
    "    \n",
    "    return plain_text"
   ]
  },
  {
   "cell_type": "code",
   "execution_count": 38,
   "metadata": {
    "collapsed": true
   },
   "outputs": [],
   "source": [
    "#source https://stackoverflow.com/questions/4798654/modular-multiplicative-inverse-function-in-python\n",
    "def egcd(int1, int2):\n",
    "    if int1==0:\n",
    "        return (int2, 0, 1)\n",
    "    else:\n",
    "        g,y,x = egcd(int2%int1, int1)\n",
    "        return (g, x-(int2//int1)*y, y)\n",
    "def modinv(int1, mod):\n",
    "    g,x,y = egcd(int1,mod)\n",
    "    if g!=1:\n",
    "        return -1 \n",
    "    else :\n",
    "        return x%mod"
   ]
  },
  {
   "cell_type": "code",
   "execution_count": 43,
   "metadata": {
    "scrolled": true
   },
   "outputs": [
    {
     "data": {
      "text/plain": [
       "'my name is Kirubel Kassaye'"
      ]
     },
     "execution_count": 43,
     "metadata": {},
     "output_type": "execute_result"
    }
   ],
   "source": [
    "mul_ciph_decrypt(\"{O`\\x02'{C`_%`\\r_\\x1e3.Ct`\\r'%%'OC\", 7)"
   ]
  },
  {
   "cell_type": "code",
   "execution_count": 42,
   "metadata": {},
   "outputs": [
    {
     "data": {
      "text/plain": [
       "\"{O`\\x02'{C`_%`\\r_\\x1e3.Ct`\\r'%%'OC\""
      ]
     },
     "execution_count": 42,
     "metadata": {},
     "output_type": "execute_result"
    }
   ],
   "source": [
    "mul_ciph_encrypt(\"my name is Kirubel Kassaye\", 7)"
   ]
  },
  {
   "cell_type": "code",
   "execution_count": 32,
   "metadata": {},
   "outputs": [
    {
     "name": "stdout",
     "output_type": "stream",
     "text": [
      "2 does not have multiplicative inverse\n"
     ]
    },
    {
     "data": {
      "text/plain": [
       "-1"
      ]
     },
     "execution_count": 32,
     "metadata": {},
     "output_type": "execute_result"
    }
   ],
   "source": [
    "modinv(2,128)"
   ]
  },
  {
   "cell_type": "code",
   "execution_count": 22,
   "metadata": {},
   "outputs": [
    {
     "name": "stdout",
     "output_type": "stream",
     "text": [
      "hi 5\n"
     ]
    }
   ],
   "source": [
    "print(\"hi %s\" % \"5\")"
   ]
  }
 ],
 "metadata": {
  "kernelspec": {
   "display_name": "Python 3",
   "language": "python",
   "name": "python3"
  },
  "language_info": {
   "codemirror_mode": {
    "name": "ipython",
    "version": 3
   },
   "file_extension": ".py",
   "mimetype": "text/x-python",
   "name": "python",
   "nbconvert_exporter": "python",
   "pygments_lexer": "ipython3",
   "version": "3.6.3"
  }
 },
 "nbformat": 4,
 "nbformat_minor": 2
}
