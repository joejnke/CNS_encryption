{
 "cells": [
  {
   "cell_type": "code",
   "execution_count": 1,
   "metadata": {},
   "outputs": [],
   "source": [
    "#encription function\n",
    "def mul_ciph_encrypt(plain_text, key):\n",
    "    \"\"\"Encrypt a stream of characters.\n",
    "    \n",
    "    Parameters\n",
    "    ----------\n",
    "    plain_text : string\n",
    "               A single character or string of characters to be encrypted.\n",
    "    key : int\n",
    "        Encription key.\n",
    "        This value is valid if and only if it has modular inverse over 128, \n",
    "        the total number of characters in ASCII.\n",
    "        \n",
    "    Returns\n",
    "    -------\n",
    "    cipher_text : string\n",
    "                A single character or string of characters after encrypted.\n",
    "                \n",
    "    \"\"\"\n",
    "    \n",
    "    cipher_text = \"\"\n",
    "    for character in plain_text:\n",
    "        temp_cipher = chr((ord(character) * key) % 128) \n",
    "        cipher_text = cipher_text + temp_cipher\n",
    "        \n",
    "    return cipher_text"
   ]
  },
  {
   "cell_type": "code",
   "execution_count": 2,
   "metadata": {
    "collapsed": true
   },
   "outputs": [],
   "source": [
    "#decryption function\n",
    "def mul_ciph_decrypt(cipher_text, key):\n",
    "    \"\"\"Decrypt a stream of characters.\n",
    "    \n",
    "    Parameters\n",
    "    ----------\n",
    "    cipher_text : string\n",
    "                A single character or string of characters to be decrypted.\n",
    "    key : int\n",
    "        Decription key.\n",
    "        This value is valid if and only if it has modular inverse over 128, \n",
    "        the total number of characters in ASCII.\n",
    "        \n",
    "    Returns\n",
    "    -------\n",
    "    plain_text : string\n",
    "               A single character or string of characters after decrypted.\n",
    "                \n",
    "    \"\"\"\n",
    "    \n",
    "    if modinv(key,128)==-1:\n",
    "        print(\"INVALID KEY!!! --> %s\" % key)\n",
    "        return None\n",
    "    plain_text = \"\"\n",
    "    for character in cipher_text:\n",
    "        temp_plain = chr(ord(character)*modinv(key,128) % 128)\n",
    "        plain_text = plain_text + temp_plain\n",
    "    \n",
    "    return plain_text"
   ]
  },
  {
   "cell_type": "code",
   "execution_count": 3,
   "metadata": {
    "collapsed": true
   },
   "outputs": [],
   "source": [
    "#modular inverse calculator\n",
    "#source https://stackoverflow.com/questions/4798654/modular-multiplicative-inverse-function-in-python\n",
    "def egcd(int1, int2):\n",
    "    if int1==0:\n",
    "        return (int2, 0, 1)\n",
    "    else:\n",
    "        g,y,x = egcd(int2%int1, int1)\n",
    "        return (g, x-(int2//int1)*y, y)\n",
    "def modinv(int1, mod):\n",
    "    g,x,y = egcd(int1,mod)\n",
    "    if g!=1:\n",
    "        return -1 \n",
    "    else :\n",
    "        return x%mod"
   ]
  },
  {
   "cell_type": "code",
   "execution_count": 4,
   "metadata": {
    "collapsed": true
   },
   "outputs": [],
   "source": [
    "#file encrypting function\n",
    "def encrypt_file(file_path, encrypted_file_name, key):\n",
    "    \"\"\"Encrypt a file.\n",
    "    \n",
    "    Parameters\n",
    "    ----------\n",
    "    file_path : string\n",
    "              Path name of the file to be encrypted.\n",
    "               \n",
    "    encrypted_file_name : string\n",
    "                        Path name of the file where the encrypted text will be written to.\n",
    "    key : int\n",
    "        Encription key.\n",
    "        This value is valid if and only if it has modular inverse over 128, \n",
    "        the total number of characters in ASCII.\n",
    "        \n",
    "    Returns\n",
    "    -------\n",
    "    nothing returned\n",
    "                \n",
    "    \"\"\"\n",
    "    \n",
    "    try :\n",
    "        raw_file = open(file_path, \"r\")\n",
    "        file_text = raw_file.read()\n",
    "\n",
    "        encrypted_text = mul_ciph_encrypt(file_text, key)\n",
    "\n",
    "        encrypted_file = open(encrypted_file_name, mode=\"w+\")\n",
    "        encrypted_file.write(encrypted_text)\n",
    "        encrypted_file.close()\n",
    "        \n",
    "        print(\"FILE SUCCESSFULLY ENCRYPTED!!!\")\n",
    "        \n",
    "    except Exception as e:\n",
    "        print(e, \"\\n FILE ENCRYPTION FAILED!!!\")"
   ]
  },
  {
   "cell_type": "code",
   "execution_count": 5,
   "metadata": {
    "collapsed": true
   },
   "outputs": [],
   "source": [
    "#file decrypting function\n",
    "def decrypt_file(file_path, decrypted_file_name, key):\n",
    "    \"\"\"Encrypt a file.\n",
    "    \n",
    "    Parameters\n",
    "    ----------\n",
    "    file_path : string\n",
    "              Path name of the file to be decrypted.\n",
    "               \n",
    "    decrypted_file_name : string\n",
    "                        Path name of the file where the decrypted text will be written to.\n",
    "    key : int\n",
    "        Decription key.\n",
    "        This value is valid if and only if it has modular inverse over 128, \n",
    "        the total number of characters in ASCII.\n",
    "        \n",
    "    Returns\n",
    "    -------\n",
    "    nothing returned\n",
    "                \n",
    "    \"\"\"\n",
    "    \n",
    "    try :\n",
    "        raw_file = open(file_path, \"r\")\n",
    "        file_text = raw_file.read()\n",
    "\n",
    "        decrypted_text = mul_ciph_decrypt(file_text, key)\n",
    "\n",
    "        decrypted_file = open(decrypted_file_name, mode=\"w+\")\n",
    "        decrypted_file.write(decrypted_text)\n",
    "        decrypted_file.close()\n",
    "        \n",
    "        print(\"FILE SUCCESSFULLY DECRYPTED!!!\")\n",
    "        \n",
    "    except Exception as e:\n",
    "        print(e, \"\\n FILE DECRYPTION FAILED!!!\")"
   ]
  },
  {
   "cell_type": "markdown",
   "metadata": {},
   "source": [
    "# Example"
   ]
  },
  {
   "cell_type": "code",
   "execution_count": 6,
   "metadata": {},
   "outputs": [
    {
     "name": "stdout",
     "output_type": "stream",
     "text": [
      "FILE SUCCESSFULLY ENCRYPTED!!!\n"
     ]
    }
   ],
   "source": [
    "encrypt_file(\"my_file.txt\", \"my_file_encrypted.txt\", 7)"
   ]
  },
  {
   "cell_type": "code",
   "execution_count": 7,
   "metadata": {},
   "outputs": [
    {
     "name": "stdout",
     "output_type": "stream",
     "text": [
      "FILE SUCCESSFULLY DECRYPTED!!!\n"
     ]
    }
   ],
   "source": [
    "decrypt_file(\"my_file_encrypted.txt\", \"my_file_decrypted.txt\", 7)"
   ]
  }
 ],
 "metadata": {
  "kernelspec": {
   "display_name": "Python 3",
   "language": "python",
   "name": "python3"
  },
  "language_info": {
   "codemirror_mode": {
    "name": "ipython",
    "version": 3
   },
   "file_extension": ".py",
   "mimetype": "text/x-python",
   "name": "python",
   "nbconvert_exporter": "python",
   "pygments_lexer": "ipython3",
   "version": "3.6.3"
  }
 },
 "nbformat": 4,
 "nbformat_minor": 2
}
